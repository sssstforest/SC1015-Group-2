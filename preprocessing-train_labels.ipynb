{
 "cells": [
  {
   "cell_type": "code",
   "execution_count": 2,
   "id": "25e4265d",
   "metadata": {},
   "outputs": [],
   "source": [
    "import numpy as np\n",
    "import pandas as pd"
   ]
  },
  {
   "cell_type": "code",
   "execution_count": 3,
   "id": "067e50d5",
   "metadata": {},
   "outputs": [
    {
     "name": "stdout",
     "output_type": "stream",
     "text": [
      "<class 'pandas.core.frame.DataFrame'>\n",
      "RangeIndex: 212022 entries, 0 to 212021\n",
      "Data columns (total 2 columns):\n",
      " #   Column      Non-Null Count   Dtype \n",
      "---  ------      --------------   ----- \n",
      " 0   session_id  212022 non-null  object\n",
      " 1   correct     212022 non-null  int64 \n",
      "dtypes: int64(1), object(1)\n",
      "memory usage: 3.2+ MB\n"
     ]
    }
   ],
   "source": [
    "# import response data\n",
    "predictorData = pd.read_csv(\"train_labels.csv\")\n",
    "predictorData.info()"
   ]
  },
  {
   "cell_type": "code",
   "execution_count": 4,
   "id": "c79ccc61",
   "metadata": {},
   "outputs": [
    {
     "name": "stdout",
     "output_type": "stream",
     "text": [
      "<class 'pandas.core.frame.DataFrame'>\n",
      "RangeIndex: 212022 entries, 0 to 212021\n",
      "Data columns (total 3 columns):\n",
      " #   Column     Non-Null Count   Dtype \n",
      "---  ------     --------------   ----- \n",
      " 0   sessionID  212022 non-null  object\n",
      " 1   qns        212022 non-null  object\n",
      " 2   correct    212022 non-null  object\n",
      "dtypes: object(3)\n",
      "memory usage: 4.9+ MB\n"
     ]
    },
    {
     "data": {
      "text/html": [
       "<div>\n",
       "<style scoped>\n",
       "    .dataframe tbody tr th:only-of-type {\n",
       "        vertical-align: middle;\n",
       "    }\n",
       "\n",
       "    .dataframe tbody tr th {\n",
       "        vertical-align: top;\n",
       "    }\n",
       "\n",
       "    .dataframe thead th {\n",
       "        text-align: right;\n",
       "    }\n",
       "</style>\n",
       "<table border=\"1\" class=\"dataframe\">\n",
       "  <thead>\n",
       "    <tr style=\"text-align: right;\">\n",
       "      <th></th>\n",
       "      <th>sessionID</th>\n",
       "      <th>qns</th>\n",
       "      <th>correct</th>\n",
       "    </tr>\n",
       "  </thead>\n",
       "  <tbody>\n",
       "    <tr>\n",
       "      <th>0</th>\n",
       "      <td>20090312431273200</td>\n",
       "      <td>q1</td>\n",
       "      <td>1</td>\n",
       "    </tr>\n",
       "    <tr>\n",
       "      <th>1</th>\n",
       "      <td>20090312433251036</td>\n",
       "      <td>q1</td>\n",
       "      <td>0</td>\n",
       "    </tr>\n",
       "    <tr>\n",
       "      <th>2</th>\n",
       "      <td>20090314121766812</td>\n",
       "      <td>q1</td>\n",
       "      <td>1</td>\n",
       "    </tr>\n",
       "    <tr>\n",
       "      <th>3</th>\n",
       "      <td>20090314363702160</td>\n",
       "      <td>q1</td>\n",
       "      <td>1</td>\n",
       "    </tr>\n",
       "    <tr>\n",
       "      <th>4</th>\n",
       "      <td>20090314441803444</td>\n",
       "      <td>q1</td>\n",
       "      <td>1</td>\n",
       "    </tr>\n",
       "    <tr>\n",
       "      <th>...</th>\n",
       "      <td>...</td>\n",
       "      <td>...</td>\n",
       "      <td>...</td>\n",
       "    </tr>\n",
       "    <tr>\n",
       "      <th>212017</th>\n",
       "      <td>22100215342220508</td>\n",
       "      <td>q18</td>\n",
       "      <td>1</td>\n",
       "    </tr>\n",
       "    <tr>\n",
       "      <th>212018</th>\n",
       "      <td>22100215460321130</td>\n",
       "      <td>q18</td>\n",
       "      <td>1</td>\n",
       "    </tr>\n",
       "    <tr>\n",
       "      <th>212019</th>\n",
       "      <td>22100217104993650</td>\n",
       "      <td>q18</td>\n",
       "      <td>1</td>\n",
       "    </tr>\n",
       "    <tr>\n",
       "      <th>212020</th>\n",
       "      <td>22100219442786200</td>\n",
       "      <td>q18</td>\n",
       "      <td>1</td>\n",
       "    </tr>\n",
       "    <tr>\n",
       "      <th>212021</th>\n",
       "      <td>22100221145014656</td>\n",
       "      <td>q18</td>\n",
       "      <td>1</td>\n",
       "    </tr>\n",
       "  </tbody>\n",
       "</table>\n",
       "<p>212022 rows × 3 columns</p>\n",
       "</div>"
      ],
      "text/plain": [
       "                sessionID  qns correct\n",
       "0       20090312431273200   q1       1\n",
       "1       20090312433251036   q1       0\n",
       "2       20090314121766812   q1       1\n",
       "3       20090314363702160   q1       1\n",
       "4       20090314441803444   q1       1\n",
       "...                   ...  ...     ...\n",
       "212017  22100215342220508  q18       1\n",
       "212018  22100215460321130  q18       1\n",
       "212019  22100217104993650  q18       1\n",
       "212020  22100219442786200  q18       1\n",
       "212021  22100221145014656  q18       1\n",
       "\n",
       "[212022 rows x 3 columns]"
      ]
     },
     "execution_count": 4,
     "metadata": {},
     "output_type": "execute_result"
    }
   ],
   "source": [
    "# split the \"session_id\" column into \"sessionID\" and \"qns\"\n",
    "split_predictorData = predictorData['session_id'].str.split(\"_\", expand=True)\n",
    "# rename the headers\n",
    "split_predictorData = split_predictorData.rename(columns={split_predictorData.columns[0]: 'sessionID', split_predictorData.columns[1]: 'qns'})\n",
    "# combine the dataframe of the 2 split items and the correct column of the original dataframe\n",
    "processed_predictorData = pd.concat([split_predictorData, predictorData['correct']], axis=1)\n",
    "#change datatype for 'correct' column from int64 to object (CONSIDER 'BOOL' INSTEAD)\n",
    "processed_predictorData['correct'] = processed_predictorData['correct'].astype('object')\n",
    "\n",
    "processed_predictorData.info()\n",
    "processed_predictorData"
   ]
  },
  {
   "cell_type": "code",
   "execution_count": null,
   "id": "0c48f61f",
   "metadata": {},
   "outputs": [],
   "source": []
  }
 ],
 "metadata": {
  "kernelspec": {
   "display_name": "Python 3 (ipykernel)",
   "language": "python",
   "name": "python3"
  },
  "language_info": {
   "codemirror_mode": {
    "name": "ipython",
    "version": 3
   },
   "file_extension": ".py",
   "mimetype": "text/x-python",
   "name": "python",
   "nbconvert_exporter": "python",
   "pygments_lexer": "ipython3",
   "version": "3.9.13"
  }
 },
 "nbformat": 4,
 "nbformat_minor": 5
}
