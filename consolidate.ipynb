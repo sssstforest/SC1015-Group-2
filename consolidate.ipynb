{
  "nbformat": 4,
  "nbformat_minor": 0,
  "metadata": {
    "colab": {
      "provenance": []
    },
    "kernelspec": {
      "name": "python3",
      "display_name": "Python 3"
    },
    "language_info": {
      "name": "python"
    }
  },
  "cells": [
    {
      "cell_type": "code",
      "execution_count": null,
      "metadata": {
        "id": "I3YnOotlg-Kb"
      },
      "outputs": [],
      "source": [
        "import numpy as np \n",
        "import pandas as pd"
      ]
    },
    {
      "cell_type": "markdown",
      "source": [
        "# Pre-processing - train.csv"
      ],
      "metadata": {
        "id": "SbGNhM1vlTRQ"
      }
    },
    {
      "cell_type": "code",
      "source": [
        "# import predictors data\n",
        "data = pd.read_csv(\"train.csv\")\n",
        "data.info()"
      ],
      "metadata": {
        "id": "brAVay7ng-4j"
      },
      "execution_count": null,
      "outputs": []
    },
    {
      "cell_type": "code",
      "source": [
        "## drop those columns with NA values\n",
        "data = data.drop(['music','hq','fullscreen'], axis=1)\n",
        "print(data.head())"
      ],
      "metadata": {
        "id": "ZiQ64Yg4hUVY"
      },
      "execution_count": null,
      "outputs": []
    },
    {
      "cell_type": "code",
      "source": [
        "## Change data types\n",
        "data['elapsed_time'] = data['elapsed_time'].astype(np.uint32)\n",
        "data['level'] = data['level'].astype(np.uint8)\n",
        "data['room_coor_x'] = data['room_coor_x'].astype(np.float32)\n",
        "data['room_coor_y'] = data['room_coor_y'].astype(np.float32)\n",
        "data['screen_coor_x'] = data['screen_coor_x'].astype(np.float32)\n",
        "data['screen_coor_y'] = data['screen_coor_y'].astype(np.float32)\n",
        "data['hover_duration'] = data['hover_duration'].astype(np.float32)\n",
        "\n",
        "\n",
        "columns_to_convert = ['session_id','event_name','name','page','text','fqid','room_fqid','text_fqid','level_group']\n",
        "\n",
        "for column in columns_to_convert:\n",
        "    data[column] = data[column].astype('category')\n",
        "    \n",
        "data.info()"
      ],
      "metadata": {
        "id": "JsakUSAi6zsd"
      },
      "execution_count": null,
      "outputs": []
    },
    {
      "cell_type": "markdown",
      "source": [
        "# Pre-processing - train_labels.csv"
      ],
      "metadata": {
        "id": "tTslCm8sujbW"
      }
    },
    {
      "cell_type": "code",
      "source": [
        "# import response data\n",
        "predictorData = pd.read_csv(\"train_labels.csv\")\n",
        "predictorData.info()"
      ],
      "metadata": {
        "id": "uTv_vmDR7HT0"
      },
      "execution_count": null,
      "outputs": []
    },
    {
      "cell_type": "code",
      "source": [
        "# split the \"session_id\" column into \"sessionID\" and \"qns\"\n",
        "split_predictorData = predictorData['session_id'].str.split(\"_\", expand=True)\n",
        "# rename the headers\n",
        "split_predictorData = split_predictorData.rename(columns={split_predictorData.columns[0]: 'sessionID', split_predictorData.columns[1]: 'qns'})\n",
        "# combine the dataframe of the 2 split items and the correct column of the original dataframe\n",
        "processed_predictorData = pd.concat([split_predictorData, predictorData['correct']], axis=1)\n",
        "#change datatype for 'correct' column from int64 to object (CONSIDER 'BOOL' INSTEAD)\n",
        "processed_predictorData['correct'] = processed_predictorData['correct'].astype('object')\n",
        "\n",
        "processed_predictorData.info()\n",
        "processed_predictorData"
      ],
      "metadata": {
        "id": "9_ZL8QoyvPHK"
      },
      "execution_count": null,
      "outputs": []
    },
    {
      "cell_type": "code",
      "source": [
        "# split the \"qns\" column into \"q\" and \"question id\"\n",
        "split_qns = processed_predictorData['qns'].str.split(\"q\", expand=True)\n",
        "split_qns = split_qns.rename(columns={split_qns.columns[0]: 'q', split_qns.columns[1]: 'qns'})\n",
        "# combine the dataframe of the 'qns' into processed_predictorData\n",
        "processed_predictorData_sortedBySessionID = pd.concat([processed_predictorData['sessionID'], split_qns['qns'], processed_predictorData['correct']], axis=1)\n",
        "# convert the datatype of qns to integer for sorting\n",
        "processed_predictorData_sortedBySessionID['qns'] = processed_predictorData_sortedBySessionID['qns'].astype('int')\n",
        "# sort the dataset according to ascending order of the 'sessionID' and 'qns'\n",
        "processed_predictorData_sortedBySessionID = processed_predictorData_sortedBySessionID.sort_values(['sessionID', 'qns'], ascending=[True, True])\n",
        "# reset the index\n",
        "processed_predictorData_sortedBySessionID = processed_predictorData_sortedBySessionID.reset_index(drop=True)\n",
        "processed_predictorData_sortedBySessionID.info()\n",
        "processed_predictorData_sortedBySessionID"
      ],
      "metadata": {
        "id": "6KCEUC3ubBtH"
      },
      "execution_count": null,
      "outputs": []
    },
    {
      "cell_type": "markdown",
      "source": [
        "# EDA - train_labels.csv\n",
        "*   How many correct&wrong for each qns (plot graph)\n",
        "*   How many correct&wrong for each user (plot graph)"
      ],
      "metadata": {
        "id": "ITPtY3IK7OFF"
      }
    },
    {
      "cell_type": "code",
      "source": [],
      "metadata": {
        "id": "dAesp4qH7VM1"
      },
      "execution_count": null,
      "outputs": []
    },
    {
      "cell_type": "markdown",
      "source": [],
      "metadata": {
        "id": "tAGU2BzYy6JX"
      }
    },
    {
      "cell_type": "markdown",
      "source": [
        "# EDA - correlation of all predictors to the response\n",
        "\n"
      ],
      "metadata": {
        "id": "DiU8x2IDwjUf"
      }
    },
    {
      "cell_type": "code",
      "source": [],
      "metadata": {
        "id": "CCZ8KWlt_3Tx"
      },
      "execution_count": null,
      "outputs": []
    }
  ]
}